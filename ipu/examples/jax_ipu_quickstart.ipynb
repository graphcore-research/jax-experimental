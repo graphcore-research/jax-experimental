{
 "cells": [
  {
   "cell_type": "markdown",
   "metadata": {},
   "source": [
    "# Quickstart: running JAX on IPU"
   ]
  },
  {
   "cell_type": "code",
   "execution_count": 1,
   "metadata": {
    "scrolled": true
   },
   "outputs": [
    {
     "name": "stdout",
     "output_type": "stream",
     "text": [
      "Found existing installation: jax 0.3.16+ipu\n",
      "Not uninstalling jax at /nethome/paulb/github/jax-experimental-internal, outside environment /nethome/paulb/venvs/3.1.0+1205/3.1.0+1205_poptorch\n",
      "Can't uninstall 'jax'. No files were found to uninstall.\n",
      "Found existing installation: jaxlib 0.3.15+ipu.sdk310\n",
      "Uninstalling jaxlib-0.3.15+ipu.sdk310:\n",
      "  Successfully uninstalled jaxlib-0.3.15+ipu.sdk310\n",
      "Collecting jaxlib==0.3.15+ipu.sdk310\n",
      "  Downloading https://github.com/graphcore-research/jax-experimental/releases/latest/download/jaxlib-0.3.15+ipu.sdk310-cp38-none-manylinux2014_x86_64.whl (109.4 MB)\n",
      "\u001b[2K     \u001b[38;2;114;156;31m━━━━━━━━━━━━━━━━━━━━━━━━━━━━━━━━━━━━━━\u001b[0m \u001b[32m109.4/109.4 MB\u001b[0m \u001b[31m27.1 MB/s\u001b[0m eta \u001b[36m0:00:00\u001b[0mm eta \u001b[36m0:00:01\u001b[0m[36m0:00:01\u001b[0m\n",
      "\u001b[?25hRequirement already satisfied: scipy>=1.5 in /nethome/paulb/venvs/3.1.0+1205/3.1.0+1205_poptorch/lib/python3.8/site-packages (from jaxlib==0.3.15+ipu.sdk310) (1.10.0)\n",
      "Requirement already satisfied: numpy>=1.19 in /nethome/paulb/venvs/3.1.0+1205/3.1.0+1205_poptorch/lib/python3.8/site-packages (from jaxlib==0.3.15+ipu.sdk310) (1.22.4)\n",
      "Requirement already satisfied: absl-py in /nethome/paulb/venvs/3.1.0+1205/3.1.0+1205_poptorch/lib/python3.8/site-packages (from jaxlib==0.3.15+ipu.sdk310) (1.4.0)\n",
      "Installing collected packages: jaxlib\n",
      "Successfully installed jaxlib-0.3.15+ipu.sdk310\n",
      "Collecting jax==0.3.16+ipu\n",
      "  Downloading https://github.com/graphcore-research/jax-experimental/releases/latest/download/jax-0.3.16+ipu-py3-none-any.whl (1.2 MB)\n",
      "\u001b[2K     \u001b[38;2;114;156;31m━━━━━━━━━━━━━━━━━━━━━━━━━━━━━━━━━━━━━━━━\u001b[0m \u001b[32m1.2/1.2 MB\u001b[0m \u001b[31m30.4 MB/s\u001b[0m eta \u001b[36m0:00:00\u001b[0mm eta \u001b[36m0:00:01\u001b[0m\n",
      "\u001b[?25hRequirement already satisfied: absl-py in /nethome/paulb/venvs/3.1.0+1205/3.1.0+1205_poptorch/lib/python3.8/site-packages (from jax==0.3.16+ipu) (1.4.0)\n",
      "Requirement already satisfied: numpy>=1.20 in /nethome/paulb/venvs/3.1.0+1205/3.1.0+1205_poptorch/lib/python3.8/site-packages (from jax==0.3.16+ipu) (1.22.4)\n",
      "Requirement already satisfied: opt-einsum in /nethome/paulb/venvs/3.1.0+1205/3.1.0+1205_poptorch/lib/python3.8/site-packages (from jax==0.3.16+ipu) (3.3.0)\n",
      "Requirement already satisfied: scipy>=1.5 in /nethome/paulb/venvs/3.1.0+1205/3.1.0+1205_poptorch/lib/python3.8/site-packages (from jax==0.3.16+ipu) (1.10.0)\n",
      "Requirement already satisfied: typing-extensions in /nethome/paulb/venvs/3.1.0+1205/3.1.0+1205_poptorch/lib/python3.8/site-packages (from jax==0.3.16+ipu) (4.4.0)\n",
      "Requirement already satisfied: etils[epath] in /nethome/paulb/venvs/3.1.0+1205/3.1.0+1205_poptorch/lib/python3.8/site-packages (from jax==0.3.16+ipu) (1.0.0)\n",
      "Requirement already satisfied: importlib_resources in /nethome/paulb/venvs/3.1.0+1205/3.1.0+1205_poptorch/lib/python3.8/site-packages (from etils[epath]->jax==0.3.16+ipu) (5.10.2)\n",
      "Requirement already satisfied: zipp in /nethome/paulb/venvs/3.1.0+1205/3.1.0+1205_poptorch/lib/python3.8/site-packages (from etils[epath]->jax==0.3.16+ipu) (3.12.0)\n"
     ]
    }
   ],
   "source": [
    "# Install experimental JAX for IPUs (SDK 3.1) from Github releases.\n",
    "import sys\n",
    "!{sys.executable} -m pip uninstall -y jax jaxlib\n",
    "!{sys.executable} -m pip install jax==0.3.16+ipu jaxlib==0.3.15+ipu.sdk310 -f https://graphcore-research.github.io/jax-experimental/wheels.html"
   ]
  },
  {
   "cell_type": "code",
   "execution_count": 5,
   "metadata": {},
   "outputs": [],
   "source": [
    "from jax.config import config\n",
    "\n",
    "# Uncomment to use IPU model emulator.\n",
    "# config.FLAGS.jax_ipu_use_model = True\n",
    "# config.FLAGS.jax_ipu_model_num_tiles = 8\n",
    "\n",
    "# Select how many IPUs will be visible.\n",
    "config.FLAGS.jax_ipu_device_count = 4"
   ]
  },
  {
   "cell_type": "markdown",
   "metadata": {},
   "source": [
    "* JAX will automatically select `ipu` as default backend, the order is ipu > tpu > gpu > cpu."
   ]
  },
  {
   "cell_type": "code",
   "execution_count": 6,
   "metadata": {},
   "outputs": [
    {
     "name": "stdout",
     "output_type": "stream",
     "text": [
      "Platform=ipu\n",
      "Number of devices=4\n",
      "IpuDevice(id=0, num_tiles=1472, version=ipu2)\n",
      "IpuDevice(id=1, num_tiles=1472, version=ipu2)\n",
      "IpuDevice(id=2, num_tiles=1472, version=ipu2)\n",
      "IpuDevice(id=3, num_tiles=1472, version=ipu2)\n"
     ]
    }
   ],
   "source": [
    "import jax\n",
    "\n",
    "print(f\"Platform={jax.default_backend()}\")\n",
    "print(f\"Number of devices={jax.device_count()}\")\n",
    "devices = jax.devices()\n",
    "print(\"\\n\".join([str(d) for d in devices]))"
   ]
  },
  {
   "cell_type": "markdown",
   "metadata": {},
   "source": [
    "## JAX basics on IPU"
   ]
  },
  {
   "cell_type": "markdown",
   "metadata": {},
   "source": [
    "* A demo to run a simple jit function on single IPU"
   ]
  },
  {
   "cell_type": "code",
   "execution_count": 7,
   "metadata": {},
   "outputs": [
    {
     "name": "stdout",
     "output_type": "stream",
     "text": [
      "Result = [[-0.03298193  0.1450178  -3.8689601 ]\n",
      " [ 0.26485693  0.6824822  -2.7068207 ]\n",
      " [-1.5246258   1.0486794  -1.1777194 ]]\n",
      "Platform = ipu\n",
      "Device = IpuDevice(id=0, num_tiles=1472, version=ipu2)\n"
     ]
    }
   ],
   "source": [
    "import numpy as np\n",
    "from jax import jit\n",
    "import jax.numpy as jnp\n",
    "\n",
    "@jit\n",
    "def func(x, w, b):\n",
    "    return jnp.matmul(w, x) + b\n",
    "\n",
    "x = np.random.normal(size=[2, 3])\n",
    "w = np.random.normal(size=[3, 2])\n",
    "b = np.random.normal(size=[3, 3])\n",
    "\n",
    "r = func(x, w, b)\n",
    "print(f\"Result = {r}\")\n",
    "print(f\"Platform = {r.platform()}\")\n",
    "print(f\"Device = {r.device()}\")"
   ]
  },
  {
   "cell_type": "markdown",
   "metadata": {},
   "source": [
    "* With `jax.device_put` API, we can put variables to certain device. Here is an example to run jit function on `ipu:0`:"
   ]
  },
  {
   "cell_type": "code",
   "execution_count": 8,
   "metadata": {},
   "outputs": [
    {
     "name": "stdout",
     "output_type": "stream",
     "text": [
      "Result = [[-0.03298193  0.1450178  -3.8689601 ]\n",
      " [ 0.26485693  0.6824822  -2.7068207 ]\n",
      " [-1.5246258   1.0486794  -1.1777194 ]]\n",
      "Platform = ipu\n",
      "Device = IpuDevice(id=0, num_tiles=1472, version=ipu2)\n"
     ]
    }
   ],
   "source": [
    "x = jax.device_put(x, devices[0])\n",
    "w = jax.device_put(w, devices[0])\n",
    "b = jax.device_put(b, devices[0])\n",
    "\n",
    "r = func(x, w, b)\n",
    "\n",
    "print(f\"Result = {r}\")\n",
    "print(f\"Platform = {r.platform()}\")\n",
    "print(f\"Device = {r.device()}\")"
   ]
  },
  {
   "cell_type": "markdown",
   "metadata": {},
   "source": [
    "* `jit` also support to config which backend the function will be running on, for example, below function will be running on `cpu` platform:"
   ]
  },
  {
   "cell_type": "code",
   "execution_count": 9,
   "metadata": {},
   "outputs": [
    {
     "name": "stdout",
     "output_type": "stream",
     "text": [
      "Result = [[-0.03298193  0.1450178  -3.8689601 ]\n",
      " [ 0.26485693  0.6824822  -2.7068207 ]\n",
      " [-1.5246258   1.0486792  -1.1777194 ]]\n",
      "Platform = cpu\n",
      "Device = TFRT_CPU_0\n"
     ]
    }
   ],
   "source": [
    "from functools import partial\n",
    "\n",
    "@partial(jit, backend='cpu')\n",
    "def func(x, w, b):\n",
    "    return jnp.matmul(w, x) + b\n",
    "\n",
    "r = func(x, w, b)\n",
    "print(f\"Result = {r}\")\n",
    "print(f\"Platform = {r.platform()}\")\n",
    "print(f\"Device = {r.device()}\")"
   ]
  },
  {
   "cell_type": "markdown",
   "metadata": {},
   "source": [
    "## JAX Pseudo Random Numbers generation\n",
    "\n",
    "Reproducible random numbers across platforms using JAX ThreeFry PRNG."
   ]
  },
  {
   "cell_type": "code",
   "execution_count": 10,
   "metadata": {},
   "outputs": [
    {
     "name": "stdout",
     "output_type": "stream",
     "text": [
      "CPU PRNG: (DeviceArray([255383827, 267815257], dtype=uint32), DeviceArray([0.7367313 , 0.83174706, 0.91349196], dtype=float32))\n",
      "IPU PRNG: (DeviceArray([255383827, 267815257], dtype=uint32), DeviceArray([0.7367313 , 0.83174706, 0.91349196], dtype=float32))\n"
     ]
    }
   ],
   "source": [
    "def random_fn(seed: int):\n",
    "    key = jax.random.PRNGKey(seed)\n",
    "    k1, k2 = jax.random.split(key)\n",
    "    return k2, jax.random.uniform(k1, (3,))\n",
    "\n",
    "random_fn_cpu = jax.jit(random_fn, backend=\"cpu\")\n",
    "random_fn_ipu = jax.jit(random_fn, backend=\"ipu\")\n",
    "\n",
    "print(\"CPU PRNG:\", random_fn_cpu(42))\n",
    "print(\"IPU PRNG:\", random_fn_ipu(42))"
   ]
  },
  {
   "cell_type": "code",
   "execution_count": null,
   "metadata": {},
   "outputs": [],
   "source": []
  },
  {
   "cell_type": "markdown",
   "metadata": {},
   "source": [
    "## JAX asynchronous dispatch on IPUs\n",
    "\n",
    "JAX IPU supports synchronous dispatch, allowing simple and efficient implementation of:\n",
    "* Inference and training pipeline (see MNIST examples);\n",
    "* Pipelining between multiple IPUs;"
   ]
  },
  {
   "cell_type": "code",
   "execution_count": 22,
   "metadata": {},
   "outputs": [],
   "source": [
    "@partial(jit, backend='ipu')\n",
    "def compute_fn(x, w):\n",
    "    return jnp.matmul(w, x)"
   ]
  },
  {
   "cell_type": "code",
   "execution_count": 24,
   "metadata": {},
   "outputs": [
    {
     "data": {
      "text/plain": [
       "DeviceArray([[-36.361366  ,  -3.042955  , -12.644773  , ...,\n",
       "              -40.753418  ,   4.5766077 , -24.013191  ],\n",
       "             [ 59.276512  , -42.203323  , -34.57003   , ...,\n",
       "               18.124418  , -36.59385   , -11.677992  ],\n",
       "             [ -1.694912  ,  25.681198  ,  52.33486   , ...,\n",
       "               27.405115  , -28.903233  ,  10.453694  ],\n",
       "             ...,\n",
       "             [ 77.24507   ,  -8.220667  , -22.550009  , ...,\n",
       "               -6.22768   ,  22.722406  , -64.64627   ],\n",
       "             [ 74.65662   , -10.569157  , -21.336151  , ...,\n",
       "              -24.757969  ,  61.907845  ,   6.3100595 ],\n",
       "             [  5.3183784 ,   0.59175587,  14.068951  , ...,\n",
       "               -5.0356216 , -22.174866  ,  14.702527  ]], dtype=float32)"
      ]
     },
     "execution_count": 24,
     "metadata": {},
     "output_type": "execute_result"
    }
   ],
   "source": [
    "x = np.random.normal(size=[1024, 1024]).astype(np.float32)\n",
    "# First run to compile jitted function, and load it on IPU.\n",
    "compute_fn(x, x)"
   ]
  },
  {
   "cell_type": "code",
   "execution_count": 32,
   "metadata": {},
   "outputs": [
    {
     "name": "stdout",
     "output_type": "stream",
     "text": [
      "CPU times: user 190 µs, sys: 52 µs, total: 242 µs\n",
      "Wall time: 325 µs\n"
     ]
    },
    {
     "data": {
      "text/plain": [
       "DeviceArray([[-36.361366  ,  -3.042955  , -12.644773  , ...,\n",
       "              -40.753418  ,   4.5766077 , -24.013191  ],\n",
       "             [ 59.276512  , -42.203323  , -34.57003   , ...,\n",
       "               18.124418  , -36.59385   , -11.677992  ],\n",
       "             [ -1.694912  ,  25.681198  ,  52.33486   , ...,\n",
       "               27.405115  , -28.903233  ,  10.453694  ],\n",
       "             ...,\n",
       "             [ 77.24507   ,  -8.220667  , -22.550009  , ...,\n",
       "               -6.22768   ,  22.722406  , -64.64627   ],\n",
       "             [ 74.65662   , -10.569157  , -21.336151  , ...,\n",
       "              -24.757969  ,  61.907845  ,   6.3100595 ],\n",
       "             [  5.3183784 ,   0.59175587,  14.068951  , ...,\n",
       "               -5.0356216 , -22.174866  ,  14.702527  ]], dtype=float32)"
      ]
     },
     "execution_count": 32,
     "metadata": {},
     "output_type": "execute_result"
    }
   ],
   "source": [
    "# No blocking: benchmarking only dispatch time.\n",
    "%time w = compute_fn(x, x)\n",
    "w.block_until_ready()"
   ]
  },
  {
   "cell_type": "code",
   "execution_count": 36,
   "metadata": {},
   "outputs": [
    {
     "name": "stdout",
     "output_type": "stream",
     "text": [
      "CPU times: user 7.16 ms, sys: 0 ns, total: 7.16 ms\n",
      "Wall time: 6.35 ms\n"
     ]
    }
   ],
   "source": [
    "# Blocking: benchmarking properly the matmul.\n",
    "%time w = compute_fn(x, x).block_until_ready()"
   ]
  },
  {
   "cell_type": "code",
   "execution_count": null,
   "metadata": {},
   "outputs": [],
   "source": []
  }
 ],
 "metadata": {
  "kernelspec": {
   "display_name": "Python 3 (ipykernel)",
   "language": "python",
   "name": "python3"
  },
  "language_info": {
   "codemirror_mode": {
    "name": "ipython",
    "version": 3
   },
   "file_extension": ".py",
   "mimetype": "text/x-python",
   "name": "python",
   "nbconvert_exporter": "python",
   "pygments_lexer": "ipython3",
   "version": "3.8.10"
  },
  "vscode": {
   "interpreter": {
    "hash": "31f2aee4e71d21fbe5cf8b01ff0e069b9275f58929596ceb00d14d90e3e16cd6"
   }
  }
 },
 "nbformat": 4,
 "nbformat_minor": 2
}
