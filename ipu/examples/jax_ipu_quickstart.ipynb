{
 "cells": [
  {
   "attachments": {},
   "cell_type": "markdown",
   "metadata": {},
   "source": [
    "# Quickstart: running JAX on IPU"
   ]
  },
  {
   "cell_type": "code",
   "execution_count": null,
   "metadata": {},
   "outputs": [],
   "source": [
    "# Install experimental JAX for IPUs\n",
    "import sys\n",
    "!{sys.executable} -m pip uninstall -y jax jaxlib\n",
    "!{sys.executable} -m pip install https://github.com/graphcore-research/jax-mk2-experimental/releases/latest/download/jaxlib-0.3.15-cp38-none-manylinux2014_x86_64.whl\n",
    "!{sys.executable} -m pip install https://github.com/graphcore-research/jax-mk2-experimental/releases/latest/download/jax-0.3.16-py3-none-any.whl"
   ]
  },
  {
   "cell_type": "code",
   "execution_count": null,
   "metadata": {},
   "outputs": [],
   "source": [
    "from jax.config import config\n",
    "# Uncomment to use IPU model emulator.\n",
    "# config.FLAGS.jax_ipu_use_model = True\n",
    "# config.FLAGS.jax_ipu_model_num_tiles = 8"
   ]
  },
  {
   "attachments": {},
   "cell_type": "markdown",
   "metadata": {},
   "source": [
    "* JAX will automatically select `ipu` as default backend, the order is ipu > tpu > gpu > cpu."
   ]
  },
  {
   "cell_type": "code",
   "execution_count": null,
   "metadata": {},
   "outputs": [],
   "source": [
    "import jax\n",
    "\n",
    "print(f\"Platform={jax.default_backend()}\")\n",
    "print(f\"Number of devices={jax.device_count()}\")\n",
    "devices = jax.devices()\n",
    "print(devices)"
   ]
  },
  {
   "cell_type": "markdown",
   "metadata": {},
   "source": [
    "* A demo to run a simple jit function on single IPU"
   ]
  },
  {
   "cell_type": "code",
   "execution_count": null,
   "metadata": {},
   "outputs": [],
   "source": [
    "import numpy as np\n",
    "from jax import jit\n",
    "import jax.numpy as jnp\n",
    "\n",
    "@jit\n",
    "def func(x, w, b):\n",
    "    return jnp.matmul(w, x) + b\n",
    "\n",
    "x = np.random.normal(size=[2, 3])\n",
    "w = np.random.normal(size=[3, 2])\n",
    "b = np.random.normal(size=[3, 3])\n",
    "\n",
    "r = func(x, w, b)\n",
    "print(f\"Result = {r}\")\n",
    "print(f\"Platform = {r.platform()}\")\n",
    "print(f\"Device = {r.device()}\")"
   ]
  },
  {
   "attachments": {},
   "cell_type": "markdown",
   "metadata": {},
   "source": [
    "* With `jax.device_put` API, we can put variables to certain device. Here is an example to run jit function on `ipu:0`:"
   ]
  },
  {
   "cell_type": "code",
   "execution_count": null,
   "metadata": {},
   "outputs": [],
   "source": [
    "x = jax.device_put(x, devices[0])\n",
    "w = jax.device_put(w, devices[0])\n",
    "b = jax.device_put(b, devices[0])\n",
    "\n",
    "r = func(x, w, b)\n",
    "\n",
    "print(f\"Result = {r}\")\n",
    "print(f\"Platform = {r.platform()}\")\n",
    "print(f\"Device = {r.device()}\")"
   ]
  },
  {
   "cell_type": "markdown",
   "metadata": {},
   "source": [
    "* `jit` also support to config which backend the function will be running on, for example, below function will be running on `cpu` platform:"
   ]
  },
  {
   "cell_type": "code",
   "execution_count": null,
   "metadata": {},
   "outputs": [],
   "source": [
    "from functools import partial\n",
    "\n",
    "@partial(jit, backend='cpu')\n",
    "def func(x, w, b):\n",
    "    return jnp.matmul(w, x) + b\n",
    "\n",
    "r = func(x, w, b)\n",
    "print(f\"Result = {r}\")\n",
    "print(f\"Platform = {r.platform()}\")\n",
    "print(f\"Device = {r.device()}\")"
   ]
  },
  {
   "attachments": {},
   "cell_type": "markdown",
   "metadata": {},
   "source": [
    "### JAX Pseudo Random Numbers generation\n",
    "\n",
    "Reproducible random numbers across platforms using JAX ThreeFry PRNG."
   ]
  },
  {
   "cell_type": "code",
   "execution_count": null,
   "metadata": {},
   "outputs": [],
   "source": [
    "def random_fn(seed: int):\n",
    "    key = jax.random.PRNGKey(seed)\n",
    "    k1, k2 = jax.random.split(key)\n",
    "    return k2, jax.random.uniform(k1, (3,))\n",
    "\n",
    "random_fn_cpu = jax.jit(random_fn, backend=\"cpu\")\n",
    "random_fn_ipu = jax.jit(random_fn, backend=\"ipu\")\n",
    "\n",
    "print(\"CPU PRNG:\", random_fn_cpu(42))\n",
    "print(\"IPU PRNG:\", random_fn_ipu(42))"
   ]
  },
  {
   "cell_type": "code",
   "execution_count": null,
   "metadata": {},
   "outputs": [],
   "source": []
  }
 ],
 "metadata": {
  "kernelspec": {
   "display_name": "Python 3",
   "language": "python",
   "name": "python3"
  },
  "language_info": {
   "codemirror_mode": {
    "name": "ipython",
    "version": 3
   },
   "file_extension": ".py",
   "mimetype": "text/x-python",
   "name": "python",
   "nbconvert_exporter": "python",
   "pygments_lexer": "ipython3",
   "version": "3.8.10"
  },
  "vscode": {
   "interpreter": {
    "hash": "31f2aee4e71d21fbe5cf8b01ff0e069b9275f58929596ceb00d14d90e3e16cd6"
   }
  }
 },
 "nbformat": 4,
 "nbformat_minor": 2
}
