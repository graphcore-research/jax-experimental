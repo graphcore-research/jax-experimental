{
 "cells": [
  {
   "cell_type": "markdown",
   "metadata": {},
   "source": [
    "# Quickstart: running JAX on IPU"
   ]
  },
  {
   "cell_type": "code",
   "execution_count": 1,
   "metadata": {
    "execution": {
     "iopub.execute_input": "2023-07-05T16:04:07.225322Z",
     "iopub.status.busy": "2023-07-05T16:04:07.225095Z",
     "iopub.status.idle": "2023-07-05T16:04:26.012927Z",
     "shell.execute_reply": "2023-07-05T16:04:26.012180Z",
     "shell.execute_reply.started": "2023-07-05T16:04:07.225302Z"
    },
    "scrolled": true
   },
   "outputs": [
    {
     "name": "stdout",
     "output_type": "stream",
     "text": [
      "Found existing installation: jax 0.3.16+ipu\n",
      "Uninstalling jax-0.3.16+ipu:\n",
      "  Successfully uninstalled jax-0.3.16+ipu\n",
      "Found existing installation: jaxlib 0.3.15+ipu.sdk310\n",
      "Uninstalling jaxlib-0.3.15+ipu.sdk310:\n",
      "  Successfully uninstalled jaxlib-0.3.15+ipu.sdk310\n",
      "\u001b[33mWARNING: Running pip as the 'root' user can result in broken permissions and conflicting behaviour with the system package manager. It is recommended to use a virtual environment instead: https://pip.pypa.io/warnings/venv\u001b[0m\u001b[33m\n",
      "\u001b[0mLooking in links: https://graphcore-research.github.io/jax-experimental/wheels.html\n",
      "Collecting jax==0.3.16+ipu\n",
      "  Downloading https://github.com/graphcore-research/jax-experimental/releases/download/jax-v0.3.16-ipu-beta2-sdk3/jax-0.3.16%2Bipu-py3-none-any.whl (1.2 MB)\n",
      "\u001b[2K     \u001b[90m━━━━━━━━━━━━━━━━━━━━━━━━━━━━━━━━━━━━━━━━\u001b[0m \u001b[32m1.2/1.2 MB\u001b[0m \u001b[31m32.6 MB/s\u001b[0m eta \u001b[36m0:00:00\u001b[0m00:01\u001b[0m\n",
      "\u001b[?25hCollecting jaxlib==0.3.15+ipu.sdk310\n",
      "  Downloading https://github.com/graphcore-research/jax-experimental/releases/download/jax-v0.3.16-ipu-beta2-sdk3/jaxlib-0.3.15%2Bipu.sdk310-cp38-none-manylinux2014_x86_64.whl (109.4 MB)\n",
      "\u001b[2K     \u001b[90m━━━━━━━━━━━━━━━━━━━━━━━━━━━━━━━━━━━━━━\u001b[0m \u001b[32m109.4/109.4 MB\u001b[0m \u001b[31m40.3 MB/s\u001b[0m eta \u001b[36m0:00:00\u001b[0m00:01\u001b[0m00:01\u001b[0m\n",
      "\u001b[?25hRequirement already satisfied: cppimport in /usr/local/lib/python3.8/dist-packages (from jax==0.3.16+ipu) (22.8.2)\n",
      "Requirement already satisfied: numpy>=1.20 in /usr/local/lib/python3.8/dist-packages (from jax==0.3.16+ipu) (1.24.4)\n",
      "Requirement already satisfied: typing-extensions in /usr/local/lib/python3.8/dist-packages (from jax==0.3.16+ipu) (4.5.0)\n",
      "Requirement already satisfied: etils[epath] in /usr/local/lib/python3.8/dist-packages (from jax==0.3.16+ipu) (1.3.0)\n",
      "Requirement already satisfied: absl-py in /usr/local/lib/python3.8/dist-packages (from jax==0.3.16+ipu) (1.4.0)\n",
      "Requirement already satisfied: opt-einsum in /usr/local/lib/python3.8/dist-packages (from jax==0.3.16+ipu) (3.3.0)\n",
      "Requirement already satisfied: scipy>=1.5 in /usr/local/lib/python3.8/dist-packages (from jax==0.3.16+ipu) (1.10.1)\n",
      "Requirement already satisfied: pybind11 in /usr/local/lib/python3.8/dist-packages (from jax==0.3.16+ipu) (2.10.4)\n",
      "Requirement already satisfied: filelock in /usr/local/lib/python3.8/dist-packages (from cppimport->jax==0.3.16+ipu) (3.12.2)\n",
      "Requirement already satisfied: mako in /usr/local/lib/python3.8/dist-packages (from cppimport->jax==0.3.16+ipu) (1.2.4)\n",
      "Requirement already satisfied: importlib_resources in /usr/local/lib/python3.8/dist-packages (from etils[epath]->jax==0.3.16+ipu) (5.12.0)\n",
      "Requirement already satisfied: zipp in /usr/local/lib/python3.8/dist-packages (from etils[epath]->jax==0.3.16+ipu) (3.14.0)\n",
      "Requirement already satisfied: MarkupSafe>=0.9.2 in /usr/local/lib/python3.8/dist-packages (from mako->cppimport->jax==0.3.16+ipu) (2.1.2)\n",
      "Installing collected packages: jaxlib, jax\n",
      "Successfully installed jax-0.3.16+ipu jaxlib-0.3.15+ipu.sdk310\n",
      "\u001b[33mWARNING: Running pip as the 'root' user can result in broken permissions and conflicting behaviour with the system package manager. It is recommended to use a virtual environment instead: https://pip.pypa.io/warnings/venv\u001b[0m\u001b[33m\n",
      "\u001b[0m"
     ]
    }
   ],
   "source": [
    "# Install experimental JAX for IPUs (SDK 3.1) from Github releases.\n",
    "!pip uninstall -y jax jaxlib\n",
    "!pip install jax==0.3.16+ipu jaxlib==0.3.15+ipu.sdk310 -f https://graphcore-research.github.io/jax-experimental/wheels.html"
   ]
  },
  {
   "cell_type": "markdown",
   "metadata": {},
   "source": [
    "Set the number of IPUs (or use IPUModel emulator)."
   ]
  },
  {
   "cell_type": "code",
   "execution_count": 11,
   "metadata": {
    "execution": {
     "iopub.execute_input": "2023-07-05T16:14:37.577404Z",
     "iopub.status.busy": "2023-07-05T16:14:37.577010Z",
     "iopub.status.idle": "2023-07-05T16:14:37.583656Z",
     "shell.execute_reply": "2023-07-05T16:14:37.582817Z",
     "shell.execute_reply.started": "2023-07-05T16:14:37.577380Z"
    }
   },
   "outputs": [
    {
     "name": "stdout",
     "output_type": "stream",
     "text": [
      "Platform=ipu\n",
      "Number of devices=2\n",
      "IpuDevice(id=0, num_tiles=1472, version=ipu2)\n",
      "IpuDevice(id=1, num_tiles=1472, version=ipu2)\n"
     ]
    }
   ],
   "source": [
    "import os\n",
    "# Enable IPU compilation cache\n",
    "os.environ['TF_POPLAR_FLAGS'] = \"\"\"\n",
    "  --executable_cache_path=/tmp/ipu-ef-cache\n",
    "  --show_progress_bar=true\n",
    "\"\"\"\n",
    "\n",
    "import jax\n",
    "from jax.config import config\n",
    "\n",
    "# Uncomment to use IPU model emulator.\n",
    "# config.FLAGS.jax_ipu_use_model = True\n",
    "# config.FLAGS.jax_ipu_model_num_tiles = 8\n",
    "\n",
    "# Select how many IPUs will be visible.\n",
    "config.update('jax_ipu_device_count', 2)\n",
    "\n",
    "\n",
    "print(f\"Platform={jax.default_backend()}\")\n",
    "print(f\"Number of devices={jax.device_count()}\")\n",
    "devices = jax.devices()\n",
    "print(\"\\n\".join([str(d) for d in devices]))"
   ]
  },
  {
   "cell_type": "markdown",
   "metadata": {},
   "source": [
    "## JAX basics on IPU"
   ]
  },
  {
   "cell_type": "markdown",
   "metadata": {},
   "source": [
    "Let's run a simple jit function on single IPU"
   ]
  },
  {
   "cell_type": "code",
   "execution_count": 12,
   "metadata": {
    "execution": {
     "iopub.execute_input": "2023-07-05T16:14:43.320512Z",
     "iopub.status.busy": "2023-07-05T16:14:43.320257Z",
     "iopub.status.idle": "2023-07-05T16:14:43.905754Z",
     "shell.execute_reply": "2023-07-05T16:14:43.904974Z",
     "shell.execute_reply.started": "2023-07-05T16:14:43.320492Z"
    }
   },
   "outputs": [
    {
     "name": "stderr",
     "output_type": "stream",
     "text": [
      "WARNING:absl:Finished tracing + transforming func for jit in 0.0019779205322265625 sec\n",
      "WARNING:absl:Compiling func (140549248426688 for args (ShapedArray(float32[2,3]), ShapedArray(float32[3,2]), ShapedArray(float32[3,3])).\n",
      "WARNING:absl:Finished XLA compilation of func in 0.024996280670166016 sec\n"
     ]
    },
    {
     "name": "stdout",
     "output_type": "stream",
     "text": [
      "Result:\n",
      "[[-2.677743    2.6914132   0.20147145]\n",
      " [-1.1868829  -0.04647234  1.1461383 ]\n",
      " [-0.36853528 -0.29917884  0.12049922]]\n",
      "Result.platform = ipu\n",
      "Result.device = IpuDevice(id=0, num_tiles=1472, version=ipu2)\n"
     ]
    }
   ],
   "source": [
    "import numpy as np\n",
    "from jax import jit\n",
    "import jax.numpy as jnp\n",
    "\n",
    "@jit\n",
    "def func(x, w, b):\n",
    "    return jnp.matmul(w, x) + b\n",
    "\n",
    "x = np.random.normal(size=[2, 3])\n",
    "w = np.random.normal(size=[3, 2])\n",
    "b = np.random.normal(size=[3, 3])\n",
    "\n",
    "r = func(x, w, b)\n",
    "print(f\"Result:\\n{r}\")\n",
    "print(f\"Result.platform = {r.platform()}\")\n",
    "print(f\"Result.device = {r.device()}\")"
   ]
  },
  {
   "cell_type": "markdown",
   "metadata": {},
   "source": [
    "With the `jax.device_put` API, we can put variables onto specific devices. Here is an example to run the jit function on `ipu:1`:"
   ]
  },
  {
   "cell_type": "code",
   "execution_count": 13,
   "metadata": {
    "execution": {
     "iopub.execute_input": "2023-07-05T16:14:49.342812Z",
     "iopub.status.busy": "2023-07-05T16:14:49.342540Z",
     "iopub.status.idle": "2023-07-05T16:14:49.933834Z",
     "shell.execute_reply": "2023-07-05T16:14:49.932806Z",
     "shell.execute_reply.started": "2023-07-05T16:14:49.342792Z"
    }
   },
   "outputs": [
    {
     "name": "stderr",
     "output_type": "stream",
     "text": [
      "WARNING:absl:Finished tracing + transforming func for jit in 0.0017542839050292969 sec\n",
      "WARNING:absl:Compiling func (140548309428240 for args (ShapedArray(float32[2,3]), ShapedArray(float32[3,2]), ShapedArray(float32[3,3])).\n",
      "WARNING:absl:Finished XLA compilation of func in 0.02718639373779297 sec\n"
     ]
    },
    {
     "name": "stdout",
     "output_type": "stream",
     "text": [
      "Result:\n",
      "[[-2.677743    2.6914132   0.20147145]\n",
      " [-1.1868829  -0.04647234  1.1461383 ]\n",
      " [-0.36853528 -0.29917884  0.12049922]]\n",
      "Result.platform = ipu\n",
      "Result.device = IpuDevice(id=1, num_tiles=1472, version=ipu2)\n"
     ]
    }
   ],
   "source": [
    "x = jax.device_put(x, devices[1])\n",
    "w = jax.device_put(w, devices[1])\n",
    "b = jax.device_put(b, devices[1])\n",
    "\n",
    "r = func(x, w, b)\n",
    "\n",
    "print(f\"Result:\\n{r}\")\n",
    "print(f\"Result.platform = {r.platform()}\")\n",
    "print(f\"Result.device = {r.device()}\")"
   ]
  },
  {
   "cell_type": "markdown",
   "metadata": {},
   "source": [
    "`jit` also allows us to choose the backend the function will be running on.  For example, the below function will be running on `cpu`."
   ]
  },
  {
   "cell_type": "code",
   "execution_count": 6,
   "metadata": {
    "execution": {
     "iopub.execute_input": "2023-07-05T16:10:49.253233Z",
     "iopub.status.busy": "2023-07-05T16:10:49.252984Z",
     "iopub.status.idle": "2023-07-05T16:10:49.330171Z",
     "shell.execute_reply": "2023-07-05T16:10:49.329225Z",
     "shell.execute_reply.started": "2023-07-05T16:10:49.253209Z"
    }
   },
   "outputs": [
    {
     "name": "stdout",
     "output_type": "stream",
     "text": [
      "Result:\n",
      "[[-1.6480908   2.8391855   0.9473706 ]\n",
      " [ 2.204995   -2.6486144   1.190534  ]\n",
      " [ 0.15803957 -0.38066247  1.8685656 ]]\n",
      "Result.platform = cpu\n",
      "Result.device = TFRT_CPU_0\n"
     ]
    }
   ],
   "source": [
    "from functools import partial\n",
    "\n",
    "@partial(jit, backend='cpu')\n",
    "def func(x, w, b):\n",
    "    return jnp.matmul(w, x) + b\n",
    "\n",
    "r = func(x, w, b)\n",
    "\n",
    "print(f\"Result:\\n{r}\")\n",
    "print(f\"Result.platform = {r.platform()}\")\n",
    "print(f\"Result.device = {r.device()}\")"
   ]
  },
  {
   "cell_type": "markdown",
   "metadata": {},
   "source": [
    "## JAX Pseudo Random Numbers generation\n",
    "\n",
    "Reproducible random numbers across platforms using JAX ThreeFry PRNG.  We will run this on both CPU and IPU.\n",
    "\n",
    "This is a relatively complex workload for IPU, so the first time through it will take a few seconds to compile.\n",
    "Let's switch on logging to see the compilation in action."
   ]
  },
  {
   "cell_type": "code",
   "execution_count": 15,
   "metadata": {
    "execution": {
     "iopub.execute_input": "2023-07-05T16:21:16.509089Z",
     "iopub.status.busy": "2023-07-05T16:21:16.508837Z",
     "iopub.status.idle": "2023-07-05T16:21:16.512294Z",
     "shell.execute_reply": "2023-07-05T16:21:16.511434Z",
     "shell.execute_reply.started": "2023-07-05T16:21:16.509069Z"
    }
   },
   "outputs": [],
   "source": [
    "config.update('jax_log_compiles', False)\n"
   ]
  },
  {
   "cell_type": "code",
   "execution_count": 16,
   "metadata": {
    "execution": {
     "iopub.execute_input": "2023-07-05T16:21:17.028840Z",
     "iopub.status.busy": "2023-07-05T16:21:17.028635Z",
     "iopub.status.idle": "2023-07-05T16:21:21.935163Z",
     "shell.execute_reply": "2023-07-05T16:21:21.934454Z",
     "shell.execute_reply.started": "2023-07-05T16:21:17.028820Z"
    }
   },
   "outputs": [
    {
     "name": "stdout",
     "output_type": "stream",
     "text": [
      "CPU PRNG: (DeviceArray([255383827, 267815257], dtype=uint32), DeviceArray([0.7367313 , 0.92771065, 0.91349196, 0.3181516 ], dtype=float32))\n",
      "IPU PRNG: (DeviceArray([255383827, 267815257], dtype=uint32), DeviceArray([0.7367313 , 0.92771065, 0.91349196, 0.3181516 ], dtype=float32))\n"
     ]
    }
   ],
   "source": [
    "def random_fn(seed: int):\n",
    "    key = jax.random.PRNGKey(seed)\n",
    "    k1, k2 = jax.random.split(key)\n",
    "    return k2, jax.random.uniform(k1, (4,))\n",
    "\n",
    "random_fn_cpu = jax.jit(random_fn, backend=\"cpu\")\n",
    "print(\"CPU PRNG:\", random_fn_cpu(42))\n",
    "\n",
    "random_fn_ipu = jax.jit(random_fn, backend=\"ipu\")\n",
    "print(\"IPU PRNG:\", random_fn_ipu(42))"
   ]
  },
  {
   "cell_type": "code",
   "execution_count": null,
   "metadata": {},
   "outputs": [],
   "source": []
  },
  {
   "cell_type": "markdown",
   "metadata": {},
   "source": [
    "## JAX asynchronous dispatch on IPUs\n",
    "\n",
    "JAX IPU supports synchronous dispatch, allowing simple and efficient implementation of:\n",
    "* Inference and training pipeline (see MNIST examples);\n",
    "* Pipelining between multiple IPUs;"
   ]
  },
  {
   "cell_type": "code",
   "execution_count": 22,
   "metadata": {},
   "outputs": [],
   "source": [
    "@partial(jit, backend='ipu')\n",
    "def compute_fn(x, w):\n",
    "    return jnp.matmul(w, x)"
   ]
  },
  {
   "cell_type": "code",
   "execution_count": 24,
   "metadata": {},
   "outputs": [
    {
     "data": {
      "text/plain": [
       "DeviceArray([[-36.361366  ,  -3.042955  , -12.644773  , ...,\n",
       "              -40.753418  ,   4.5766077 , -24.013191  ],\n",
       "             [ 59.276512  , -42.203323  , -34.57003   , ...,\n",
       "               18.124418  , -36.59385   , -11.677992  ],\n",
       "             [ -1.694912  ,  25.681198  ,  52.33486   , ...,\n",
       "               27.405115  , -28.903233  ,  10.453694  ],\n",
       "             ...,\n",
       "             [ 77.24507   ,  -8.220667  , -22.550009  , ...,\n",
       "               -6.22768   ,  22.722406  , -64.64627   ],\n",
       "             [ 74.65662   , -10.569157  , -21.336151  , ...,\n",
       "              -24.757969  ,  61.907845  ,   6.3100595 ],\n",
       "             [  5.3183784 ,   0.59175587,  14.068951  , ...,\n",
       "               -5.0356216 , -22.174866  ,  14.702527  ]], dtype=float32)"
      ]
     },
     "execution_count": 24,
     "metadata": {},
     "output_type": "execute_result"
    }
   ],
   "source": [
    "x = np.random.normal(size=[1024, 1024]).astype(np.float32)\n",
    "# First run to compile jitted function, and load it on IPU.\n",
    "compute_fn(x, x)"
   ]
  },
  {
   "cell_type": "code",
   "execution_count": 32,
   "metadata": {},
   "outputs": [
    {
     "name": "stdout",
     "output_type": "stream",
     "text": [
      "CPU times: user 190 µs, sys: 52 µs, total: 242 µs\n",
      "Wall time: 325 µs\n"
     ]
    },
    {
     "data": {
      "text/plain": [
       "DeviceArray([[-36.361366  ,  -3.042955  , -12.644773  , ...,\n",
       "              -40.753418  ,   4.5766077 , -24.013191  ],\n",
       "             [ 59.276512  , -42.203323  , -34.57003   , ...,\n",
       "               18.124418  , -36.59385   , -11.677992  ],\n",
       "             [ -1.694912  ,  25.681198  ,  52.33486   , ...,\n",
       "               27.405115  , -28.903233  ,  10.453694  ],\n",
       "             ...,\n",
       "             [ 77.24507   ,  -8.220667  , -22.550009  , ...,\n",
       "               -6.22768   ,  22.722406  , -64.64627   ],\n",
       "             [ 74.65662   , -10.569157  , -21.336151  , ...,\n",
       "              -24.757969  ,  61.907845  ,   6.3100595 ],\n",
       "             [  5.3183784 ,   0.59175587,  14.068951  , ...,\n",
       "               -5.0356216 , -22.174866  ,  14.702527  ]], dtype=float32)"
      ]
     },
     "execution_count": 32,
     "metadata": {},
     "output_type": "execute_result"
    }
   ],
   "source": [
    "# No blocking: benchmarking only dispatch time.\n",
    "%time w = compute_fn(x, x)\n",
    "w.block_until_ready()"
   ]
  },
  {
   "cell_type": "code",
   "execution_count": 36,
   "metadata": {},
   "outputs": [
    {
     "name": "stdout",
     "output_type": "stream",
     "text": [
      "CPU times: user 7.16 ms, sys: 0 ns, total: 7.16 ms\n",
      "Wall time: 6.35 ms\n"
     ]
    }
   ],
   "source": [
    "# Blocking: benchmarking properly the matmul.\n",
    "%time w = compute_fn(x, x).block_until_ready()"
   ]
  },
  {
   "cell_type": "code",
   "execution_count": null,
   "metadata": {},
   "outputs": [],
   "source": []
  }
 ],
 "metadata": {
  "kernelspec": {
   "display_name": "Python 3",
   "language": "python",
   "name": "python3"
  },
  "language_info": {
   "codemirror_mode": {
    "name": "ipython",
    "version": 3
   },
   "file_extension": ".py",
   "mimetype": "text/x-python",
   "name": "python",
   "nbconvert_exporter": "python",
   "pygments_lexer": "ipython3",
   "version": "3.8.10"
  },
  "vscode": {
   "interpreter": {
    "hash": "31f2aee4e71d21fbe5cf8b01ff0e069b9275f58929596ceb00d14d90e3e16cd6"
   }
  }
 },
 "nbformat": 4,
 "nbformat_minor": 4
}
