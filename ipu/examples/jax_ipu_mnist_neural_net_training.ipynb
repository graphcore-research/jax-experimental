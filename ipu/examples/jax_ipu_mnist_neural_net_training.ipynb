{
 "cells": [
  {
   "cell_type": "markdown",
   "metadata": {},
   "source": [
    "# JAX on IPU: MNIST neural net training\n",
    "\n",
    "MNIST neural net training on IPU, following the original JAX tutorial: https://jax.readthedocs.io/en/latest/notebooks/Neural_Network_and_Data_Loading.html\n",
    "\n",
    "The original example will run as-is on the IPU. Nevertheless, to make full advantage of the IPU hardware and improve user experience, the following modifications were made:\n",
    "\n",
    "* `jax_platforms = \"cpu,ipu\"`: use CPU as the default platform for initialization of parameters and dataset.\n",
    "* `donate_argnums = (0,)` in `update`: buffer donation to keep model parameters on the IPU SRAM between iterations.\n",
    "* `drop_last = True` in Pytorch dataloader: keep all micro-batches with the same static shape."
   ]
  },
  {
   "cell_type": "code",
   "execution_count": null,
   "metadata": {
    "execution": {
     "iopub.execute_input": "2023-02-24T13:03:38.064395Z",
     "iopub.status.busy": "2023-02-24T13:03:38.064109Z",
     "iopub.status.idle": "2023-02-24T13:03:59.621392Z",
     "shell.execute_reply": "2023-02-24T13:03:59.620589Z",
     "shell.execute_reply.started": "2023-02-24T13:03:38.064373Z"
    }
   },
   "outputs": [],
   "source": [
    "# Install experimental JAX for IPUs\n",
    "import sys\n",
    "!{sys.executable} -m pip uninstall -q -y jax jaxlib\n",
    "!{sys.executable} -m pip install -q https://github.com/graphcore-research/jax-experimental/releases/latest/download/jaxlib-0.3.15-cp38-none-manylinux2014_x86_64.whl\n",
    "!{sys.executable} -m pip install -q https://github.com/graphcore-research/jax-experimental/releases/latest/download/jax-0.3.16-py3-none-any.whl\n",
    "!{sys.executable} -m pip install -q torchvision==0.14.0+cpu -f https://download.pytorch.org/whl/torch_stable.html"
   ]
  },
  {
   "cell_type": "code",
   "execution_count": null,
   "metadata": {
    "execution": {
     "iopub.execute_input": "2023-02-24T13:05:09.760348Z",
     "iopub.status.busy": "2023-02-24T13:05:09.760099Z",
     "iopub.status.idle": "2023-02-24T13:05:09.764349Z",
     "shell.execute_reply": "2023-02-24T13:05:09.763685Z",
     "shell.execute_reply.started": "2023-02-24T13:05:09.760327Z"
    }
   },
   "outputs": [],
   "source": [
    "from jax.config import config\n",
    "\n",
    "# Use CPU as default backend for initialization.\n",
    "config.FLAGS.jax_platforms = \"cpu,ipu\"\n",
    "# Uncomment to use IPU model emulator.\n",
    "# config.FLAGS.jax_ipu_use_model = True\n",
    "# config.FLAGS.jax_ipu_model_num_tiles = 256"
   ]
  },
  {
   "cell_type": "code",
   "execution_count": null,
   "metadata": {
    "execution": {
     "iopub.execute_input": "2023-02-24T13:05:09.895101Z",
     "iopub.status.busy": "2023-02-24T13:05:09.894906Z",
     "iopub.status.idle": "2023-02-24T13:05:09.899121Z",
     "shell.execute_reply": "2023-02-24T13:05:09.898405Z",
     "shell.execute_reply.started": "2023-02-24T13:05:09.895084Z"
    }
   },
   "outputs": [],
   "source": [
    "import jax\n",
    "print(\"IPU devices:\", jax.devices(\"ipu\"))"
   ]
  },
  {
   "cell_type": "code",
   "execution_count": null,
   "metadata": {
    "execution": {
     "iopub.execute_input": "2023-02-24T13:05:10.029982Z",
     "iopub.status.busy": "2023-02-24T13:05:10.029588Z",
     "iopub.status.idle": "2023-02-24T13:05:10.033236Z",
     "shell.execute_reply": "2023-02-24T13:05:10.032645Z",
     "shell.execute_reply.started": "2023-02-24T13:05:10.029930Z"
    }
   },
   "outputs": [],
   "source": [
    "import jax.numpy as jnp\n",
    "from jax import grad, vmap\n",
    "from jax import random"
   ]
  },
  {
   "cell_type": "code",
   "execution_count": null,
   "metadata": {
    "execution": {
     "iopub.execute_input": "2023-02-24T13:05:46.633081Z",
     "iopub.status.busy": "2023-02-24T13:05:46.632853Z",
     "iopub.status.idle": "2023-02-24T13:05:46.649099Z",
     "shell.execute_reply": "2023-02-24T13:05:46.648382Z",
     "shell.execute_reply.started": "2023-02-24T13:05:46.633059Z"
    }
   },
   "outputs": [],
   "source": [
    "# A helper function to randomly initialize weights and biases\n",
    "# for a dense neural network layer\n",
    "def random_layer_params(m, n, key, scale=1e-2):\n",
    "  w_key, b_key = random.split(key)\n",
    "  return scale * random.normal(w_key, (n, m)), scale * random.normal(b_key, (n,))\n",
    "\n",
    "# Initialize all layers for a fully-connected neural network with sizes \"sizes\"\n",
    "def init_network_params(sizes, key):\n",
    "  keys = random.split(key, len(sizes))\n",
    "  return [random_layer_params(m, n, k) for m, n, k in zip(sizes[:-1], sizes[1:], keys)]\n",
    "\n",
    "layer_sizes = [784, 512, 512, 10]\n",
    "step_size = 0.01\n",
    "num_epochs = 8\n",
    "batch_size = 128\n",
    "n_targets = 10\n",
    "params = init_network_params(layer_sizes, random.PRNGKey(0))"
   ]
  },
  {
   "cell_type": "code",
   "execution_count": null,
   "metadata": {
    "execution": {
     "iopub.execute_input": "2023-02-24T13:05:10.962598Z",
     "iopub.status.busy": "2023-02-24T13:05:10.962385Z",
     "iopub.status.idle": "2023-02-24T13:05:10.967867Z",
     "shell.execute_reply": "2023-02-24T13:05:10.967023Z",
     "shell.execute_reply.started": "2023-02-24T13:05:10.962579Z"
    }
   },
   "outputs": [],
   "source": [
    "from jax.scipy.special import logsumexp\n",
    "\n",
    "def relu(x):\n",
    "  return jnp.maximum(0, x)\n",
    "\n",
    "def predict(params, image):\n",
    "  # per-example predictions\n",
    "  activations = image\n",
    "  for w, b in params[:-1]:\n",
    "    outputs = jnp.dot(w, activations) + b\n",
    "    activations = relu(outputs)\n",
    "  \n",
    "  final_w, final_b = params[-1]\n",
    "  logits = jnp.dot(final_w, activations) + final_b\n",
    "  return logits - logsumexp(logits)"
   ]
  },
  {
   "cell_type": "code",
   "execution_count": null,
   "metadata": {
    "execution": {
     "iopub.execute_input": "2023-02-24T13:05:11.600503Z",
     "iopub.status.busy": "2023-02-24T13:05:11.600265Z",
     "iopub.status.idle": "2023-02-24T13:05:11.609030Z",
     "shell.execute_reply": "2023-02-24T13:05:11.608108Z",
     "shell.execute_reply.started": "2023-02-24T13:05:11.600482Z"
    }
   },
   "outputs": [],
   "source": [
    "# This works on single examples\n",
    "random_flattened_image = random.normal(random.PRNGKey(1), (28 * 28,))\n",
    "preds = predict(params, random_flattened_image)\n",
    "print(preds.shape)"
   ]
  },
  {
   "cell_type": "code",
   "execution_count": null,
   "metadata": {
    "execution": {
     "iopub.execute_input": "2023-02-24T13:05:11.732969Z",
     "iopub.status.busy": "2023-02-24T13:05:11.732779Z",
     "iopub.status.idle": "2023-02-24T13:05:11.747058Z",
     "shell.execute_reply": "2023-02-24T13:05:11.746301Z",
     "shell.execute_reply.started": "2023-02-24T13:05:11.732943Z"
    }
   },
   "outputs": [],
   "source": [
    "random_flattened_images = random.normal(random.PRNGKey(1), (10, 28 * 28))\n",
    "# Make a batched version of the `predict` function\n",
    "batched_predict = vmap(predict, in_axes=(None, 0))\n",
    "# `batched_predict` has the same call signature as `predict`\n",
    "batched_preds = batched_predict(params, random_flattened_images)\n",
    "print(batched_preds.shape)"
   ]
  },
  {
   "cell_type": "code",
   "execution_count": null,
   "metadata": {
    "execution": {
     "iopub.execute_input": "2023-02-24T13:05:11.871176Z",
     "iopub.status.busy": "2023-02-24T13:05:11.870897Z",
     "iopub.status.idle": "2023-02-24T13:05:12.073821Z",
     "shell.execute_reply": "2023-02-24T13:05:12.073051Z",
     "shell.execute_reply.started": "2023-02-24T13:05:11.871155Z"
    }
   },
   "outputs": [],
   "source": [
    "from functools import partial\n",
    "\n",
    "def one_hot(x, k, dtype=jnp.float32):\n",
    "  \"\"\"Create a one-hot encoding of x of size k.\"\"\"\n",
    "  return jnp.array(x[:, None] == jnp.arange(k), dtype)\n",
    "  \n",
    "def accuracy(params, images, targets):\n",
    "  target_class = jnp.argmax(targets, axis=1)\n",
    "  predicted_class = jnp.argmax(batched_predict(params, images), axis=1)\n",
    "  return jnp.mean(predicted_class == target_class)\n",
    "\n",
    "def loss(params, images, targets):\n",
    "  preds = batched_predict(params, images)\n",
    "  return -jnp.mean(preds * targets)\n",
    "\n",
    "# Explicit jitting for IPU backend.\n",
    "# Donate `params`` to keep parameters on IPU SRAM. \n",
    "@partial(jax.jit, backend=\"ipu\", donate_argnums=(0,))\n",
    "def update(params, x, y):\n",
    "  grads = grad(loss)(params, x, y)\n",
    "  return [(w - step_size * dw, b - step_size * db)\n",
    "          for (w, b), (dw, db) in zip(params, grads)]"
   ]
  },
  {
   "cell_type": "code",
   "execution_count": null,
   "metadata": {
    "execution": {
     "iopub.execute_input": "2023-02-24T13:05:12.727232Z",
     "iopub.status.busy": "2023-02-24T13:05:12.726987Z",
     "iopub.status.idle": "2023-02-24T13:05:12.734676Z",
     "shell.execute_reply": "2023-02-24T13:05:12.734094Z",
     "shell.execute_reply.started": "2023-02-24T13:05:12.727212Z"
    }
   },
   "outputs": [],
   "source": [
    "import numpy as np\n",
    "from torch.utils import data\n",
    "from torchvision.datasets import MNIST\n",
    "\n",
    "def numpy_collate(batch):\n",
    "  if isinstance(batch[0], np.ndarray):\n",
    "    return np.stack(batch)\n",
    "  elif isinstance(batch[0], (tuple,list)):\n",
    "    transposed = zip(*batch)\n",
    "    return [numpy_collate(samples) for samples in transposed]\n",
    "  else:\n",
    "    return np.array(batch)\n",
    "\n",
    "class NumpyLoader(data.DataLoader):\n",
    "  def __init__(self, dataset, batch_size=1,\n",
    "                shuffle=False, sampler=None,\n",
    "                batch_sampler=None, num_workers=0,\n",
    "                pin_memory=False, drop_last=False,\n",
    "                timeout=0, worker_init_fn=None):\n",
    "    super(self.__class__, self).__init__(dataset,\n",
    "        batch_size=batch_size,\n",
    "        shuffle=shuffle,\n",
    "        sampler=sampler,\n",
    "        batch_sampler=batch_sampler,\n",
    "        num_workers=num_workers,\n",
    "        collate_fn=numpy_collate,\n",
    "        pin_memory=pin_memory,\n",
    "        drop_last=drop_last,\n",
    "        timeout=timeout,\n",
    "        worker_init_fn=worker_init_fn)\n",
    "\n",
    "class FlattenAndCast(object):\n",
    "  def __call__(self, pic):\n",
    "    return np.ravel(np.array(pic, dtype=jnp.float32))"
   ]
  },
  {
   "cell_type": "code",
   "execution_count": null,
   "metadata": {
    "execution": {
     "iopub.execute_input": "2023-02-24T13:05:13.279641Z",
     "iopub.status.busy": "2023-02-24T13:05:13.279433Z",
     "iopub.status.idle": "2023-02-24T13:05:13.328832Z",
     "shell.execute_reply": "2023-02-24T13:05:13.328033Z",
     "shell.execute_reply.started": "2023-02-24T13:05:13.279623Z"
    }
   },
   "outputs": [],
   "source": [
    "# Define our dataset, using torch datasets\n",
    "mnist_dataset = MNIST('/tmp/mnist/', download=True, transform=FlattenAndCast())\n",
    "# IPU: dropping last micro batch with different shape.\n",
    "training_generator = NumpyLoader(mnist_dataset, batch_size=batch_size, num_workers=0, drop_last=True)"
   ]
  },
  {
   "cell_type": "code",
   "execution_count": null,
   "metadata": {
    "execution": {
     "iopub.execute_input": "2023-02-24T13:05:14.236189Z",
     "iopub.status.busy": "2023-02-24T13:05:14.235924Z",
     "iopub.status.idle": "2023-02-24T13:05:14.254714Z",
     "shell.execute_reply": "2023-02-24T13:05:14.254008Z",
     "shell.execute_reply.started": "2023-02-24T13:05:14.236168Z"
    }
   },
   "outputs": [],
   "source": [
    "# Get the full train dataset (for checking accuracy while training)\n",
    "train_images = np.array(mnist_dataset.train_data).reshape(len(mnist_dataset.train_data), -1)\n",
    "train_labels = one_hot(np.array(mnist_dataset.train_labels), n_targets)\n",
    "\n",
    "# Get full test dataset\n",
    "mnist_dataset_test = MNIST('/tmp/mnist/', download=True, train=False)\n",
    "test_images = jnp.array(mnist_dataset_test.test_data.numpy().reshape(len(mnist_dataset_test.test_data), -1), dtype=jnp.float32)\n",
    "test_labels = one_hot(np.array(mnist_dataset_test.test_labels), n_targets)"
   ]
  },
  {
   "cell_type": "code",
   "execution_count": null,
   "metadata": {
    "execution": {
     "iopub.execute_input": "2023-02-24T13:05:15.050469Z",
     "iopub.status.busy": "2023-02-24T13:05:15.050277Z",
     "iopub.status.idle": "2023-02-24T13:05:46.631540Z",
     "shell.execute_reply": "2023-02-24T13:05:46.630577Z",
     "shell.execute_reply.started": "2023-02-24T13:05:15.050450Z"
    }
   },
   "outputs": [],
   "source": [
    "import time\n",
    "\n",
    "params = init_network_params(layer_sizes, random.PRNGKey(0))\n",
    "\n",
    "for epoch in range(num_epochs):\n",
    "  start_time = time.time()\n",
    "  for x, y in training_generator:\n",
    "    y = one_hot(y, n_targets)\n",
    "    # `params` update on IPU.\n",
    "    params = update(params, x, y)\n",
    "  epoch_time = time.time() - start_time\n",
    "  \n",
    "  # Train and test accuracy on CPU.\n",
    "  params_host = jax.device_get(params)\n",
    "  train_acc = accuracy(params_host, train_images, train_labels)\n",
    "  test_acc = accuracy(params_host, test_images, test_labels)\n",
    "  print(\"Epoch {} in {:0.2f} sec\".format(epoch, epoch_time))\n",
    "  print(\"Training set accuracy {}\".format(train_acc))\n",
    "  print(\"Test set accuracy {}\".format(test_acc))"
   ]
  }
 ],
 "metadata": {
  "kernelspec": {
   "display_name": "Python 3",
   "language": "python",
   "name": "python3"
  },
  "language_info": {
   "codemirror_mode": {
    "name": "ipython",
    "version": 3
   },
   "file_extension": ".py",
   "mimetype": "text/x-python",
   "name": "python",
   "nbconvert_exporter": "python",
   "pygments_lexer": "ipython3",
   "version": "3.8.10"
  },
  "vscode": {
   "interpreter": {
    "hash": "31f2aee4e71d21fbe5cf8b01ff0e069b9275f58929596ceb00d14d90e3e16cd6"
   }
  }
 },
 "nbformat": 4,
 "nbformat_minor": 4
}
